{
 "cells": [
  {
   "cell_type": "markdown",
   "id": "ce8075c0",
   "metadata": {},
   "source": [
    "For this we will run a bunch of images through Visual Bert used for embedding, along with a prompt and see how does the context-aware embedding relate to the prompt e.g I suppose a bunch of images given the prompt \"city\" should clearly show a cluster of images-related to the prompt if we plot the embeddings by reducing them to a 2 dim vector"
   ]
  },
  {
   "cell_type": "code",
   "execution_count": null,
   "id": "79cb84df",
   "metadata": {},
   "outputs": [],
   "source": [
    "from frcnn_plus_vbertembedding import *\n",
    "import os\n",
    "\n",
    "model = FRCNN_VisualBert_Embedding()\n",
    "simpledim = ProjectionLayer(2)\n",
    "\n",
    "for image in os.listdir(\"EmbeddingImages\"):\n",
    "    print(image.path())"
   ]
  }
 ],
 "metadata": {
  "kernelspec": {
   "display_name": "videollm",
   "language": "python",
   "name": "python3"
  },
  "language_info": {
   "name": "python",
   "version": "3.13.2"
  }
 },
 "nbformat": 4,
 "nbformat_minor": 5
}
