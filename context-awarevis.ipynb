{
 "cells": [
  {
   "cell_type": "markdown",
   "id": "ce8075c0",
   "metadata": {},
   "source": [
    "For this we will run a bunch of images through Visual Bert used for embedding, along with a prompt and see how does the context-aware embedding relate to the prompt e.g I suppose a bunch of images given the prompt \"city\" should clearly show a cluster of images-related to the prompt if we plot the embeddings by reducing them to a 2 dim vector"
   ]
  },
  {
   "cell_type": "code",
   "execution_count": null,
   "id": "79cb84df",
   "metadata": {
    "vscode": {
     "languageId": "plaintext"
    }
   },
   "outputs": [],
   "source": [
    "from frcnn_plus_vbertembedding import FRCNN_VisualBert_Embedding"
   ]
  }
 ],
 "metadata": {
  "language_info": {
   "name": "python"
  }
 },
 "nbformat": 4,
 "nbformat_minor": 5
}
