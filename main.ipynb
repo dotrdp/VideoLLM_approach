{
 "cells": [
  {
   "cell_type": "markdown",
   "id": "42667643",
   "metadata": {},
   "source": [
    "Setting up dataset for training"
   ]
  },
  {
   "cell_type": "code",
   "execution_count": null,
   "id": "408dd683",
   "metadata": {},
   "outputs": [
    {
     "name": "stderr",
     "output_type": "stream",
     "text": [
      "Loading Youtube Dataset: 100%|██████████| 79346/79346 [00:00<00:00, 285081.46it/s]\n"
     ]
    }
   ],
   "source": [
    "\n",
    "from torch.utils.data import DataLoader\n",
    "import os\n",
    "from PIL import Image\n",
    "import torch\n",
    "from tqdm import tqdm\n",
    "from loader import *\n",
    "from frcnn_plus_vbertembedding import FRCNN_VisualBert_Embedding\n",
    "from videohandler import *\n",
    "\n",
    "model = FRCNN_VisualBert_Embedding()\n",
    "\n",
    "\n",
    "\n",
    "rawdataYoutube = LoadYoutubetDataset()\n",
    "rawdataActivityNet1 = LoadActivityNetDataset()\n",
    "rawdataQA = LoadNextQA_OE()\n",
    "training_data = []\n",
    "labels_data = []\n",
    "names = []\n",
    "sources = []\n",
    "for i in tqdm(range(0, len(rawdataYoutube)), desc=\"Loading Youtube Dataset\"):\n",
    "    train = []\n",
    "    t,l = rawdataYoutube[i][\"conversations\"][0][\"value\"].replace(\"<image>\",\"\"), rawdataYoutube[i][\"conversations\"][1][\"value\"].replace(\"<image>\",\"\")\n",
    "    if len(t) >512 or len(l) >512:\n",
    "        continue\n",
    "    train.append(t)\n",
    "    train.append(\"data/youtube/\"+rawdataYoutube[i][\"video\"])\n",
    "    training_data.append(train)\n",
    "    labels_data.append(\n",
    "    l\n",
    "    )\n",
    "    names.append(rawdataYoutube[i][\"id\"])\n",
    "    sources.append(\"youtube\")"
   ]
  },
  {
   "cell_type": "code",
   "execution_count": null,
   "id": "d0c250c7",
   "metadata": {},
   "outputs": [
    {
     "name": "stderr",
     "output_type": "stream",
     "text": [
      "Loading ActivityNet Dataset: 100%|██████████| 2950/2950 [00:00<00:00, 167826.77it/s]\n"
     ]
    }
   ],
   "source": [
    "for i in tqdm(range(0, len(rawdataActivityNet1)), desc=\"Loading ActivityNet open questions Dataset\"):\n",
    "    train = []\n",
    "    t,l = rawdataActivityNet1[i][\"conversations\"][0][\"value\"].replace(\"<image>\",\"\"), rawdataActivityNet1[i][\"conversations\"][1][\"value\"].replace(\"<image>\",\"\")\n",
    "    if len(t) > 512 or len(l) >512:\n",
    "        continue\n",
    "    train.append(t)\n",
    "    train.append(\"data/activitynet/\"+rawdataActivityNet1[i][\"video\"])\n",
    "    training_data.append(train)\n",
    "    labels_data.append(\n",
    "    l\n",
    "    )\n",
    "    names.append(rawdataActivityNet[i][\"id\"])\n",
    "    sources.append(\"activitynet\")"
   ]
  },
  {
   "cell_type": "code",
   "execution_count": null,
   "id": "79fb4a7e",
   "metadata": {},
   "outputs": [
    {
     "name": "stderr",
     "output_type": "stream",
     "text": [
      "Loading Next Q-A Dataset: 100%|██████████| 5492/5492 [00:00<00:00, 164046.76it/s]"
     ]
    },
    {
     "name": "stdout",
     "output_type": "stream",
     "text": [
      "Final dataset size of 14213 videos\n"
     ]
    },
    {
     "name": "stderr",
     "output_type": "stream",
     "text": [
      "\n"
     ]
    }
   ],
   "source": [
    "for i in tqdm(range(0, len(rawdataQA)), desc=\"Loading Next Q-A Dataset\"):\n",
    "    train = []\n",
    "    t,l = rawdataQA[i][\"conversations\"][0][\"value\"].replace(\"<image>\",\"\"), rawdataQA[i][\"conversations\"][1][\"value\"].replace(\"<image>\",\"\")\n",
    "    if len(t) > 512 or len(l) >512:\n",
    "        continue\n",
    "    train.append(t)\n",
    "    train.append(\"data/NextQA/\"+rawdataQA[i][\"video\"])\n",
    "    training_data.append(train)\n",
    "    labels_data.append(\n",
    "    l\n",
    "    )\n",
    "    names.append(rawdataQA[i][\"id\"].split(\"-\")[1])\n",
    "    sources.append(\"NEXTQA\")\n"
   ]
  },
  {
   "cell_type": "markdown",
   "id": "c693e8b2",
   "metadata": {},
   "source": [
    "Now we train the model!:: relgjeogjwohontrnbor\n",
    "# Add a buffer dataset with half the proccess done to do faster inference on my second device."
   ]
  },
  {
   "cell_type": "code",
   "execution_count": null,
   "id": "fbbe6625",
   "metadata": {},
   "outputs": [
    {
     "name": "stdout",
     "output_type": "stream",
     "text": [
      "ActivityNet-QA/activitynet/train/v1-3/train_val/v_yvTmIulkl7c.mp4\n"
     ]
    },
    {
     "ename": "NameError",
     "evalue": "name 'ROMPETE' is not defined",
     "output_type": "error",
     "traceback": [
      "\u001b[31m---------------------------------------------------------------------------\u001b[39m",
      "\u001b[31mNameError\u001b[39m                                 Traceback (most recent call last)",
      "\u001b[36mCell\u001b[39m\u001b[36m \u001b[39m\u001b[32mIn[6]\u001b[39m\u001b[32m, line 3\u001b[39m\n\u001b[32m      1\u001b[39m buffer_dataset = []\n\u001b[32m      2\u001b[39m \u001b[38;5;28mprint\u001b[39m(rawdataActivityNet[\u001b[32m0\u001b[39m][\u001b[33m\"\u001b[39m\u001b[33mvideo\u001b[39m\u001b[33m\"\u001b[39m])\n\u001b[32m----> \u001b[39m\u001b[32m3\u001b[39m \u001b[43mROMPETE\u001b[49m\n\u001b[32m      4\u001b[39m \u001b[38;5;28;01mfor\u001b[39;00m i \u001b[38;5;129;01min\u001b[39;00m tqdm(\u001b[38;5;28mrange\u001b[39m(\u001b[32m0\u001b[39m, \u001b[38;5;28mlen\u001b[39m(training_data)), desc=\u001b[33m\"\u001b[39m\u001b[33mRunning Backbone on the training dataset and storing the results\u001b[39m\u001b[33m\"\u001b[39m):\n\u001b[32m      5\u001b[39m    prompt = training_data[i][\u001b[32m0\u001b[39m]\n",
      "\u001b[31mNameError\u001b[39m: name 'ROMPETE' is not defined"
     ]
    }
   ],
   "source": [
    "print(\"Final dataset size of \"+str(len(training_data))+\" videos\")\n",
    "buffer_dataset = []\n",
    "ROMPETE\n",
    "for i in tqdm(range(0, len(training_data)), desc=\"Running Backbone on the training dataset and storing the results\"):\n",
    "   prompt = training_data[i][0]\n",
    "   video = training_data[i][1]\n",
    "   video_to_frames((video), \"temp\")\n",
    "   if sources[i] == \"youtube\":\n",
    "      for frame in os.listdir(\"temp/ytb_\"+names[i]+\".mp4\"):\n",
    "         path = os.path.join(\"temp/ytb_\"+names[i]+\".mp4\", frame)\n",
    "         Embedding = model.forward(path, prompt)\n",
    "         buffer_dataset.append(Embedding)\n",
    "         os.remove(path)\n",
    "   elif sources[i] == \"activitynet\":\n",
    "      for frame in os.listdir(\"temp/\"+names[i]+\".mp4\"):\n",
    "         path = os.path.join(\"temp/\"+names[i]+\".mp4\", frame)\n",
    "         Embedding = model.forward(path, prompt)\n",
    "         buffer_dataset.append(Embedding)\n",
    "         os.remove(path)\n",
    "   elif sources[i] == \"NEXTQA\":\n",
    "      for frame in os.listdir(\"temp/\"+names[i]+\".mp4\"):\n",
    "         path = os.path.join(\"temp/\"+names[i]+\".mp4\", frame)\n",
    "         Embedding = model.forward(path, prompt)\n",
    "         buffer_dataset.append(Embedding)\n",
    "         os.remove(path)\n",
    "       \n",
    "   \n",
    "torch.save(buffer_dataset)"
   ]
  },
  {
   "cell_type": "markdown",
   "id": "c727ef87",
   "metadata": {},
   "source": []
  }
 ],
 "metadata": {
  "kernelspec": {
   "display_name": "videollm",
   "language": "python",
   "name": "python3"
  },
  "language_info": {
   "codemirror_mode": {
    "name": "ipython",
    "version": 3
   },
   "file_extension": ".py",
   "mimetype": "text/x-python",
   "name": "python",
   "nbconvert_exporter": "python",
   "pygments_lexer": "ipython3",
   "version": "3.13.2"
  }
 },
 "nbformat": 4,
 "nbformat_minor": 5
}
