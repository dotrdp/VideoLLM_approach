{
 "cells": [
  {
   "cell_type": "markdown",
   "id": "42667643",
   "metadata": {},
   "source": [
    "Setting up dataset for training"
   ]
  },
  {
   "cell_type": "code",
   "execution_count": null,
   "id": "408dd683",
   "metadata": {},
   "outputs": [],
   "source": [
    "\n",
    "from torch.utils.data import DataLoader\n",
    "import os\n",
    "from PIL import Image\n",
    "import torch\n",
    "\n",
    "from loader import *\n",
    "from frcnn_plus_vbertembedding import FRCNN_VisualBert_Embedding\n",
    "model = FRCNN_VisualBert_Embedding()\n",
    "\n",
    "\n",
    "\n",
    "rawdata = LoadYoutubetDataset()\n",
    "training_data = []\n",
    "labels_data = []\n",
    "for d in rawdata:\n",
    "    train = []\n",
    "    train.append(\n",
    "        model.tokenizer(d[\"conversations\"][0][\"value\"].replace(\"<image>\",\"\"), return_tensors=\"pt\"))\n",
    "    train.append(d[\"video\"])\n",
    "    training_data.append(train)\n",
    "    labels_data.append(\n",
    "        model.tokenizer(d[\"conversations\"][1][\"value\"].replace(\"<image>\",\"\"), return_tensors=\"pt\"))\n"
   ]
  },
  {
   "cell_type": "code",
   "execution_count": null,
   "id": "d0c250c7",
   "metadata": {},
   "outputs": [],
   "source": [
    "training = [d[0] for d in training_data]\n",
    "print(training[:1])\n",
    "print(labels_data[:1])"
   ]
  },
  {
   "cell_type": "markdown",
   "id": "c693e8b2",
   "metadata": {},
   "source": [
    "Now we train the model!:: relgjeogjwohontrnbor"
   ]
  }
 ],
 "metadata": {
  "kernelspec": {
   "display_name": "videollm",
   "language": "python",
   "name": "python3"
  },
  "language_info": {
   "codemirror_mode": {
    "name": "ipython",
    "version": 3
   },
   "file_extension": ".py",
   "mimetype": "text/x-python",
   "name": "python",
   "nbconvert_exporter": "python",
   "pygments_lexer": "ipython3",
   "version": "3.13.2"
  }
 },
 "nbformat": 4,
 "nbformat_minor": 5
}
