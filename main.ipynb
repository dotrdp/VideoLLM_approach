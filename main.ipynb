{
 "cells": [
  {
   "cell_type": "markdown",
   "id": "42667643",
   "metadata": {},
   "source": [
    "Setting up dataset for training"
   ]
  },
  {
   "cell_type": "code",
   "execution_count": null,
   "id": "408dd683",
   "metadata": {},
   "outputs": [],
   "source": [
    "\n",
    "from torch.utils.data import DataLoader\n",
    "import os\n",
    "from PIL import Image\n",
    "import torch\n",
    "\n",
    "from loader import *\n",
    "from frcnn_plus_vbertembedding import FRCNN_VisualBert_Embedding\n",
    "model = FRCNN_VisualBert_Embedding()\n",
    "model.Draw(\"TEST.jpg\")\n"
   ]
  },
  {
   "cell_type": "code",
   "execution_count": null,
   "id": "3e85014c",
   "metadata": {},
   "outputs": [],
   "source": [
    "a = model.forward(\"TEST.jpg\", \"{'from': 'human', 'value': '<image>\\nis the child indoors\\nAnswer the question using few words or phrase.'}, {'from': 'gpt', 'value': 'yes'}\")"
   ]
  },
  {
   "cell_type": "code",
   "execution_count": 5,
   "id": "4eda142e",
   "metadata": {},
   "outputs": [
    {
     "name": "stdout",
     "output_type": "stream",
     "text": [
      "torch.Size([89, 30])\n",
      "True\n"
     ]
    }
   ],
   "source": [
    "print(a.shape)\n",
    "print(torch.cuda.is_available())"
   ]
  }
 ],
 "metadata": {
  "kernelspec": {
   "display_name": "videollm",
   "language": "python",
   "name": "python3"
  },
  "language_info": {
   "codemirror_mode": {
    "name": "ipython",
    "version": 3
   },
   "file_extension": ".py",
   "mimetype": "text/x-python",
   "name": "python",
   "nbconvert_exporter": "python",
   "pygments_lexer": "ipython3",
   "version": "3.13.2"
  }
 },
 "nbformat": 4,
 "nbformat_minor": 5
}
